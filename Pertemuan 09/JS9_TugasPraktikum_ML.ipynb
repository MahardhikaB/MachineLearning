{
  "cells": [
    {
      "cell_type": "markdown",
      "id": "40252bc0625da943",
      "metadata": {
        "collapsed": false,
        "id": "40252bc0625da943"
      },
      "source": [
        "Lakukan klasifikasi pada data MNIST dengan menggunakan model ANN\n",
        "Anda diperbolehkan melakukan eksplorasi terhadap,\n",
        "Metode pra pengolahan\n",
        "Pemilihan fitur\n",
        "Arsitektur ANN\n",
        "Fungsi Aktiviasi\n",
        "ANN diimplementasikan dengan menggunakan tensorflow.\n",
        "DIKERJAKAN SECARA BERKELOMPOK\n",
        "JELASKAN HASIL YANG ANDA DAPATKAN,\n",
        "AKURASI\n",
        "CONFUSION MATRIX\n",
        "KONFIGURASI MODEL --> MULAI DARI PRA PENGOLAHAN SAMPAI ARSITEKTUR ANN"
      ]
    },
    {
      "cell_type": "code",
      "execution_count": 1,
      "id": "defaaf2f4f26aa79",
      "metadata": {
        "ExecuteTime": {
          "end_time": "2023-10-31T02:35:39.286301700Z",
          "start_time": "2023-10-31T02:35:39.211423800Z"
        },
        "id": "defaaf2f4f26aa79"
      },
      "outputs": [],
      "source": [
        "import tensorflow as tf\n",
        "from tensorflow import keras\n",
        "import matplotlib.pyplot as plt\n",
        "from keras.models import Sequential\n",
        "from keras.layers import Dense\n",
        "import numpy as np"
      ]
    },
    {
      "cell_type": "code",
      "execution_count": 2,
      "id": "e1f9b14a79982f72",
      "metadata": {
        "ExecuteTime": {
          "end_time": "2023-10-31T02:35:39.566460Z",
          "start_time": "2023-10-31T02:35:39.220981300Z"
        },
        "colab": {
          "base_uri": "https://localhost:8080/"
        },
        "id": "e1f9b14a79982f72",
        "outputId": "99be3e92-fb96-43fe-f9b9-8e275897646f"
      },
      "outputs": [
        {
          "name": "stdout",
          "output_type": "stream",
          "text": [
            "Downloading data from https://storage.googleapis.com/tensorflow/tf-keras-datasets/mnist.npz\n",
            "11490434/11490434 [==============================] - 0s 0us/step\n",
            "60000\n",
            "10000\n"
          ]
        }
      ],
      "source": [
        "# Load data MNIST dan split data menjadi data train dan data test\n",
        "(X_train, y_train) , (X_test, y_test) = keras.datasets.mnist.load_data()\n",
        "print(len(X_train))\n",
        "print(len(X_test))"
      ]
    },
    {
      "cell_type": "code",
      "execution_count": 3,
      "id": "4b783addff1b6bf6",
      "metadata": {
        "ExecuteTime": {
          "end_time": "2023-10-31T02:35:39.927224600Z",
          "start_time": "2023-10-31T02:35:39.568975900Z"
        },
        "colab": {
          "base_uri": "https://localhost:8080/",
          "height": 430
        },
        "id": "4b783addff1b6bf6",
        "outputId": "547d6b4e-3e30-4ed2-a0d4-3ec42f6e1d95"
      },
      "outputs": [
        {
          "data": {
            "image/png": "[encoded data removed]",
            "text/plain": [
              "<Figure size 640x480 with 1 Axes>"
            ]
          },
          "metadata": {},
          "output_type": "display_data"
        }
      ],
      "source": [
        "# menampilkan data gambar index ke 5\n",
        "plt.imshow(X_train[5])\n",
        "plt.show()"
      ]
    },
    {
      "cell_type": "code",
      "execution_count": 4,
      "id": "4e3d1c7182903d29",
      "metadata": {
        "ExecuteTime": {
          "end_time": "2023-10-31T02:35:39.943449200Z",
          "start_time": "2023-10-31T02:35:39.929229500Z"
        },
        "colab": {
          "base_uri": "https://localhost:8080/"
        },
        "id": "4e3d1c7182903d29",
        "outputId": "f993637c-7fe7-40da-e286-b0ed9997a013"
      },
      "outputs": [
        {
          "data": {
            "text/plain": [
              "(60000, 784)"
            ]
          },
          "execution_count": 4,
          "metadata": {},
          "output_type": "execute_result"
        }
      ],
      "source": [
        "# Mengambil panjang vektor fitur\n",
        "feature_vector_length = 784\n",
        "\n",
        "# Mereshape data train dan test menjadi bentuk (jumlah sampel, panjang vektor fitur)\n",
        "X_train = X_train.reshape(X_train.shape[0], feature_vector_length)\n",
        "X_test = X_test.reshape(X_test.shape[0], feature_vector_length)\n",
        "\n",
        "# Menyimpan panjang vektor fitur ke variabel `input_shape`\n",
        "input_shape = (feature_vector_length,)\n",
        "\n",
        "# Mencetak bentuk data train\n",
        "X_train.shape\n",
        "\n"
      ]
    },
    {
      "cell_type": "code",
      "execution_count": 5,
      "id": "97b95a62dfed9773",
      "metadata": {
        "ExecuteTime": {
          "end_time": "2023-10-31T02:35:40.029281600Z",
          "start_time": "2023-10-31T02:35:39.945444500Z"
        },
        "id": "97b95a62dfed9773"
      },
      "outputs": [],
      "source": [
        "# Membuat model Sequential\n",
        "model = Sequential()\n",
        "\n",
        "# Menambahkan layer Dense pertama dengan 350 neuron dan aktivasi relu\n",
        "model.add(Dense(350, input_shape=input_shape, activation='relu'))\n",
        "\n",
        "# Menambahkan layer Dense kedua dengan 50 neuron dan aktivasi relu\n",
        "model.add(Dense(50, activation='relu'))\n",
        "\n",
        "# Menambahkan layer Dense ketiga dengan 10 neuron dan aktivasi softmax\n",
        "model.add(Dense(10, activation='softmax'))"
      ]
    },
    {
      "cell_type": "code",
      "execution_count": 6,
      "id": "b1eca0821ab35d8d",
      "metadata": {
        "ExecuteTime": {
          "end_time": "2023-10-31T02:35:40.055114900Z",
          "start_time": "2023-10-31T02:35:40.027767300Z"
        },
        "id": "b1eca0821ab35d8d"
      },
      "outputs": [],
      "source": [
        "# melakukan compile model\n",
        "model.compile(optimizer='adam',\n",
        "              loss='sparse_categorical_crossentropy',\n",
        "              metrics=['accuracy'])\n"
      ]
    },
    {
      "cell_type": "code",
      "execution_count": 7,
      "id": "4209d9d0cd64d7a2",
      "metadata": {
        "ExecuteTime": {
          "end_time": "2023-10-31T02:39:34.213887600Z",
          "start_time": "2023-10-31T02:35:40.053110500Z"
        },
        "colab": {
          "base_uri": "https://localhost:8080/"
        },
        "id": "4209d9d0cd64d7a2",
        "outputId": "fa6b4fda-e445-4491-a18e-758986f8a1a8"
      },
      "outputs": [
        {
          "name": "stdout",
          "output_type": "stream",
          "text": [
            "Epoch 1/10\n",
            "1875/1875 [==============================] - 23s 10ms/step - loss: 1.4997 - accuracy: 0.6604\n",
            "Epoch 2/10\n",
            "1875/1875 [==============================] - 14s 7ms/step - loss: 0.5358 - accuracy: 0.8576\n",
            "Epoch 3/10\n",
            "1875/1875 [==============================] - 14s 7ms/step - loss: 0.2891 - accuracy: 0.9296\n",
            "Epoch 4/10\n",
            "1875/1875 [==============================] - 14s 7ms/step - loss: 0.2031 - accuracy: 0.9505\n",
            "Epoch 5/10\n",
            "1875/1875 [==============================] - 14s 7ms/step - loss: 0.1619 - accuracy: 0.9600\n",
            "Epoch 6/10\n",
            "1875/1875 [==============================] - 14s 7ms/step - loss: 0.1268 - accuracy: 0.9689\n",
            "Epoch 7/10\n",
            "1875/1875 [==============================] - 13s 7ms/step - loss: 0.1218 - accuracy: 0.9703\n",
            "Epoch 8/10\n",
            "1875/1875 [==============================] - 14s 7ms/step - loss: 0.1044 - accuracy: 0.9745\n",
            "Epoch 9/10\n",
            "1875/1875 [==============================] - 13s 7ms/step - loss: 0.0917 - accuracy: 0.9773\n",
            "Epoch 10/10\n",
            "1875/1875 [==============================] - 13s 7ms/step - loss: 0.0848 - accuracy: 0.9800\n"
          ]
        },
        {
          "data": {
            "text/plain": [
              "<keras.src.callbacks.History at 0x7c0de43d4cd0>"
            ]
          },
          "execution_count": 7,
          "metadata": {},
          "output_type": "execute_result"
        }
      ],
      "source": [
        "# Melakukan training model dengan 10 epochs\n",
        "model.fit(X_train, y_train, epochs=10)\n"
      ]
    },
    {
      "cell_type": "code",
      "execution_count": 8,
      "id": "5b71fedb038d48c2",
      "metadata": {
        "ExecuteTime": {
          "end_time": "2023-10-31T02:39:39.964201700Z",
          "start_time": "2023-10-31T02:39:34.215946200Z"
        },
        "colab": {
          "base_uri": "https://localhost:8080/"
        },
        "id": "5b71fedb038d48c2",
        "outputId": "0d65c40a-4689-4f7e-d97b-e7b74379d920"
      },
      "outputs": [
        {
          "name": "stdout",
          "output_type": "stream",
          "text": [
            "313/313 [==============================] - 1s 3ms/step - loss: 0.1285 - accuracy: 0.9744\n",
            "313/313 [==============================] - 1s 3ms/step\n"
          ]
        }
      ],
      "source": [
        "# evaluate model\n",
        "test_results=model.evaluate(X_test,y_test)\n",
        "\n",
        "# melakukan prediksi data test dengan model yang telah dilatih\n",
        "y_predicted=model.predict(X_test)"
      ]
    },
    {
      "cell_type": "code",
      "execution_count": 9,
      "id": "9b9586336073ad9d",
      "metadata": {
        "ExecuteTime": {
          "end_time": "2023-10-31T02:39:40.082820300Z",
          "start_time": "2023-10-31T02:39:39.962061800Z"
        },
        "colab": {
          "base_uri": "https://localhost:8080/"
        },
        "id": "9b9586336073ad9d",
        "outputId": "6b0c9899-d65b-4710-84fa-c375d6b5895f"
      },
      "outputs": [
        {
          "name": "stdout",
          "output_type": "stream",
          "text": [
            "tf.Tensor(\n",
            "[[ 972    0    0    0    0    1    1    1    5    0]\n",
            " [   0 1119    1    2    0    1    3    0    9    0]\n",
            " [   8    0 1001   10    1    1    0    3    8    0]\n",
            " [   1    0    2  995    0    3    0    3    4    2]\n",
            " [   1    0    6    0  943    0   10    1    2   19]\n",
            " [   2    0    0    9    1  872    5    1    1    1]\n",
            " [   9    2    3    0    0    4  936    0    4    0]\n",
            " [   2    3   12    0    0    0    0  999    5    7]\n",
            " [   5    0    3    8    2   10    1    1  942    2]\n",
            " [   1    2    0   11   13    4    0    6    7  965]], shape=(10, 10), dtype=int32)\n",
            "0.9744\n"
          ]
        }
      ],
      "source": [
        "from sklearn.metrics import accuracy_score\n",
        "\n",
        "# Mendapatkan label prediksi\n",
        "y_predicted_labels = [np.argmax(i) for i in y_predicted]\n",
        "\n",
        "# Membuat confusion matrix menggunakan tensor TensorFlow\n",
        "cm = tf.math.confusion_matrix(labels=y_test, predictions=y_predicted_labels)\n",
        "\n",
        "# Mencetak confusion matrix\n",
        "print(cm)\n",
        "\n",
        "# Menghitung akurasi prediksi menggunakan fungsi accuracy_score()\n",
        "accuracy = accuracy_score(y_test, y_predicted_labels)\n",
        "\n",
        "# Mencetak akurasi prediksi\n",
        "print(accuracy)"
      ]
    }
  ],
  "metadata": {
    "colab": {
      "provenance": []
    },
    "kernelspec": {
      "display_name": "Python 3",
      "language": "python",
      "name": "python3"
    },
    "language_info": {
      "codemirror_mode": {
        "name": "ipython",
        "version": 2
      },
      "file_extension": ".py",
      "mimetype": "text/x-python",
      "name": "python",
      "nbconvert_exporter": "python",
      "pygments_lexer": "ipython2",
      "version": "2.7.6"
    }
  },
  "nbformat": 4,
  "nbformat_minor": 5
}
